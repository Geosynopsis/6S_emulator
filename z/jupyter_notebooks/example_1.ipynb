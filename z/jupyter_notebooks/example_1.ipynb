{
 "cells": [
  {
   "cell_type": "markdown",
   "metadata": {},
   "source": [
    "# Atmospheric Correction (example 1)\n",
    "*---*"
   ]
  },
  {
   "cell_type": "markdown",
   "metadata": {},
   "source": [
    "### THE PROBLEM"
   ]
  },
  {
   "cell_type": "markdown",
   "metadata": {},
   "source": [
    "A common problem in remote sensing is the need to to convert at-sensor radiance (L) to surface reflectance (ρ). One way to describe the relationship between the two is:"
   ]
  },
  {
   "cell_type": "markdown",
   "metadata": {},
   "source": [
    "ρ = π(L -Lp) / τ(Edir + Edif)"
   ]
  },
  {
   "cell_type": "markdown",
   "metadata": {},
   "source": [
    "where\n",
    "\n",
    "* ρ = surface reflectance\n",
    "* π = 3.1415..\n",
    "* L = at-sensor radiance\n",
    "* Lp = path radiance\n",
    "* τ = transmissivity (from surface to satellite)\n",
    "* Edir = direct solar irradiance \n",
    "* Edif = diffuse solar irradiance\n",
    "\n"
   ]
  },
  {
   "cell_type": "markdown",
   "metadata": {},
   "source": [
    "Let's say we know the at-sensor radiance"
   ]
  },
  {
   "cell_type": "code",
   "execution_count": 23,
   "metadata": {
    "collapsed": true
   },
   "outputs": [],
   "source": [
    "L = 100"
   ]
  },
  {
   "cell_type": "markdown",
   "metadata": {},
   "source": [
    "We now have 2 knowns (i.e. π and L) and need the remaining 4 unknowns (i.e. Edir, Edif, τ and Lp) to calculate surface reflectance. "
   ]
  },
  {
   "cell_type": "markdown",
   "metadata": {},
   "source": [
    "### THE SOLUTION"
   ]
  },
  {
   "cell_type": "markdown",
   "metadata": {},
   "source": [
    "The 4 unknowns depend on atmospheric conditions and Earth-Sun-Satellite geometry"
   ]
  },
  {
   "cell_type": "markdown",
   "metadata": {},
   "source": [
    "**Atmospheric Conditions** <br />\n",
    "For visible through short-wave infrared wavelengths (0.4 to 2.5 microns) the key variables are:\n",
    "\n",
    "* water vapour (g cm<sup>-2</sup>)\n",
    "* ozone (atm-cm)\n",
    "* aerosol optical thickness"
   ]
  },
  {
   "cell_type": "code",
   "execution_count": 24,
   "metadata": {
    "collapsed": true
   },
   "outputs": [],
   "source": [
    "H2O = 1\n",
    "O3 = 0.4\n",
    "AOT = 0.3"
   ]
  },
  {
   "cell_type": "markdown",
   "metadata": {},
   "source": [
    "**Earth-Sun-Satellite Geometry** <br />\n",
    "\n",
    "* target altitude (km)\n",
    "* solar zenith angle (degrees)\n",
    "* view zentith angle (degrees)\n",
    "* Earth-Sun distance (Astronomical Units)"
   ]
  },
  {
   "cell_type": "markdown",
   "metadata": {},
   "source": [
    "Instead of Earth-Sun distance we use day-of-year to correct for the eccentricity in the Earth's orbit around the sun. See [here](https://github.com/samsammurphy/atmcorr/wiki/Elliptical-Orbit-Correction) for details."
   ]
  },
  {
   "cell_type": "code",
   "execution_count": 25,
   "metadata": {
    "collapsed": false
   },
   "outputs": [],
   "source": [
    "alt = 0\n",
    "solar_z = 20\n",
    "view_z = 0   \n",
    "doy = 4"
   ]
  },
  {
   "cell_type": "markdown",
   "metadata": {},
   "source": [
    "**Where might we get these values from?**\n",
    "\n",
    "Potential sources include:<br>\n",
    "\n",
    "* Water vapour: [NCEP/NCAR](http://journals.ametsoc.org/doi/abs/10.1175/1520-0477%281996%29077%3C0437%3ATNYRP%3E2.0.CO%3B2)\n",
    "* Ozone: [TOMS/OMI](http://ozoneaq.gsfc.nasa.gov/missions). \n",
    "* Aerosol optical thickness: [MODIS Aerosol Product](http://modis-atmos.gsfc.nasa.gov/MOD04_L2/index.html) or in-scene techniques\n",
    "* Geometry and day-of-year: image metadata\n"
   ]
  },
  {
   "cell_type": "markdown",
   "metadata": {},
   "source": [
    "**How to convert at-sensor radiance to surface reflectance?**"
   ]
  },
  {
   "cell_type": "markdown",
   "metadata": {},
   "source": [
    "We can use an interpolated lookup table (iLUT). Let's say we want to correct Landsat 8's blue band (i.e. B2) using a continental (CO) aerosol model.\n",
    "\n",
    "First, open the relevant iLUT:"
   ]
  },
  {
   "cell_type": "code",
   "execution_count": 26,
   "metadata": {
    "collapsed": false
   },
   "outputs": [],
   "source": [
    "import pickle\n",
    "\n",
    "iLUT_path = '/home/sam/git/atmcorr/iLUTs/LANDSAT_OLI_MA/viewz_0/LANDSAT_OLI_MA_0_B2.ilut'\n",
    "with open(iLUT_path, 'rb') as f:\n",
    "    iLUT = pickle.load(f)"
   ]
  },
  {
   "cell_type": "markdown",
   "metadata": {},
   "source": [
    "Then retrieve outputs at perihelion:"
   ]
  },
  {
   "cell_type": "code",
   "execution_count": 27,
   "metadata": {
    "collapsed": false
   },
   "outputs": [],
   "source": [
    "Edir, Edif, tau2, Lp = iLUT(solar_z,H2O,O3,AOT,alt)"
   ]
  },
  {
   "cell_type": "markdown",
   "metadata": {},
   "source": [
    "correct for the Earth's elliptical orbit"
   ]
  },
  {
   "cell_type": "code",
   "execution_count": 34,
   "metadata": {
    "collapsed": false
   },
   "outputs": [],
   "source": [
    "import numpy as np\n",
    "\n",
    "def elliptical_correction(doy):\n",
    "    a = 0.03275\n",
    "    b = 18.992\n",
    "    c = 0.968047\n",
    "    return a*np.cos(doy/(b*math.pi)) + c\n",
    "\n",
    "ec = elliptical_correction(doy)\n",
    "\n",
    "Edir = Edir*ec\n",
    "Edif = Edif*ec\n",
    "Lp = Lp*ec"
   ]
  },
  {
   "cell_type": "markdown",
   "metadata": {},
   "source": [
    "calculate surface reflectance:"
   ]
  },
  {
   "cell_type": "code",
   "execution_count": 36,
   "metadata": {
    "collapsed": false
   },
   "outputs": [
    {
     "name": "stdout",
     "output_type": "stream",
     "text": [
      "Surface Reflectance = 0.099\n"
     ]
    }
   ],
   "source": [
    "import math\n",
    "ρ = (math.pi*(L-Lp))/(tau2*(Edir+Edif))\n",
    "\n",
    "print('Surface Reflectance = {:.3f}'.format(ρ))"
   ]
  },
  {
   "cell_type": "markdown",
   "metadata": {},
   "source": [
    "**DONE!**"
   ]
  }
 ],
 "metadata": {
  "anaconda-cloud": {},
  "kernelspec": {
   "display_name": "Python [Root]",
   "language": "python",
   "name": "Python [Root]"
  },
  "language_info": {
   "codemirror_mode": {
    "name": "ipython",
    "version": 3
   },
   "file_extension": ".py",
   "mimetype": "text/x-python",
   "name": "python",
   "nbconvert_exporter": "python",
   "pygments_lexer": "ipython3",
   "version": "3.5.2"
  }
 },
 "nbformat": 4,
 "nbformat_minor": 1
}
