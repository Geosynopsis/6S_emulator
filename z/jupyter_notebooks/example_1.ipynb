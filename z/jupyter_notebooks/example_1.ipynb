{
 "cells": [
  {
   "cell_type": "markdown",
   "metadata": {},
   "source": [
    "# Atmospheric Correction (example 1)\n",
    "*---*"
   ]
  },
  {
   "cell_type": "markdown",
   "metadata": {},
   "source": [
    "### THE PROBLEM"
   ]
  },
  {
   "cell_type": "markdown",
   "metadata": {},
   "source": [
    "A common problem in remote sensing is the need to to convert at-sensor radiance (L) to surface reflectance (ρ). One way to describe the relationship between the two is:"
   ]
  },
  {
   "cell_type": "markdown",
   "metadata": {},
   "source": [
    "ρ = π(L -Lp) / τ(Edir + Edif)"
   ]
  },
  {
   "cell_type": "markdown",
   "metadata": {},
   "source": [
    "where\n",
    "\n",
    "* ρ = surface reflectance\n",
    "* π = 3.1415..\n",
    "* L = at-sensor radiance\n",
    "* Lp = path radiance\n",
    "* τ = transmissivity (from surface to satellite)\n",
    "* Edir = direct solar irradiance \n",
    "* Edif = diffuse solar irradiance\n",
    "\n"
   ]
  },
  {
   "cell_type": "markdown",
   "metadata": {},
   "source": [
    "Let's say we know the at-sensor radiance"
   ]
  },
  {
   "cell_type": "code",
   "execution_count": 78,
   "metadata": {
    "collapsed": true
   },
   "outputs": [],
   "source": [
    "L = 100"
   ]
  },
  {
   "cell_type": "markdown",
   "metadata": {},
   "source": [
    "We now have 2 knowns in this equation (i.e. π and L) and need to obtain the remaining 4 unknowns (i.e. Edir, Edif, τ and Lp) to calculate surface reflectance. "
   ]
  },
  {
   "cell_type": "markdown",
   "metadata": {},
   "source": [
    "### THE SOLUTION"
   ]
  },
  {
   "cell_type": "markdown",
   "metadata": {},
   "source": [
    "The 4 unknowns depend on Earth-Sun-Satellite geometry and atmospheric conditions"
   ]
  },
  {
   "cell_type": "markdown",
   "metadata": {},
   "source": [
    "**Earth-Sun-Satellite Geometry** <br />\n",
    "This can be defined using the following variables\n",
    "\n",
    "* solar zenith angle (degrees)\n",
    "* view zentith angle (degrees)\n",
    "* Earth-Sun distance (Astronomical Units)\n",
    "* target altitude (km)"
   ]
  },
  {
   "cell_type": "markdown",
   "metadata": {},
   "source": [
    "This information is often provided in the metadata of satellite imagery"
   ]
  },
  {
   "cell_type": "code",
   "execution_count": 79,
   "metadata": {
    "collapsed": false
   },
   "outputs": [],
   "source": [
    "solar_z = 20\n",
    "view_z = 0   \n",
    "ESd = 1\n",
    "alt = 0"
   ]
  },
  {
   "cell_type": "markdown",
   "metadata": {},
   "source": [
    "**Atmospheric Conditions** <br />\n",
    "For visible, near-infrared and short-wave infrared wavelengths the key variables are:\n",
    "\n",
    "* water vapour column\n",
    "* ozone\n",
    "* aerosol optical thickness\n",
    "\n",
    "We can obtain values for the water vapour column from [NCEP/NCAR](http://journals.ametsoc.org/doi/abs/10.1175/1520-0477%281996%29077%3C0437%3ATNYRP%3E2.0.CO%3B2) and for ozone from [TOMS/OMI](http://ozoneaq.gsfc.nasa.gov/missions). Aerosol optical thickness, however, is a bit more tricky, we could use the [MODIS Aerosol Product](http://modis-atmos.gsfc.nasa.gov/MOD04_L2/index.html) or try and estimate it using an in-scene technique."
   ]
  },
  {
   "cell_type": "markdown",
   "metadata": {},
   "source": [
    "Let's say we have the water vapour column (H2O), ozone (O3) and aerosol optical thickness (AOT)"
   ]
  },
  {
   "cell_type": "code",
   "execution_count": 80,
   "metadata": {
    "collapsed": true
   },
   "outputs": [],
   "source": [
    "H2O = 1\n",
    "O3 = 0.4\n",
    "AOT = 0.3"
   ]
  },
  {
   "cell_type": "markdown",
   "metadata": {},
   "source": [
    "**How do we use Atmcorr to convert at-sensor radiance to surface reflectance?**"
   ]
  },
  {
   "cell_type": "markdown",
   "metadata": {},
   "source": [
    "First we need to open up the relevant interpolated lookup table (iLUT). An iLUT is like a simulation of radiative transfer (RT) code but it runs orders of magnitude faster. Please see our [validation](https://github.com/samsammurphy/atmcorr/issues/7) page. There is more information on how iLUTs are [organized](https://github.com/samsammurphy/atmcorr/issues/8) as well.\n",
    "\n",
    "\n",
    "Let's say we want to correct the blue band (i.e. B2) of Landsat 8's OLI sensor using a continental (CO) aerosol model"
   ]
  },
  {
   "cell_type": "code",
   "execution_count": 81,
   "metadata": {
    "collapsed": false
   },
   "outputs": [],
   "source": [
    "import pickle #i.e. iLUTs are currently saved as Python pickle files\n",
    "\n",
    "iLUT_path = '/home/sam/git/atmcorr/iLUTs/LANDSAT_OLI_MA/viewz_0/LANDSAT_OLI_MA_0_B2.ilut'\n",
    "with open(iLUT_path, 'rb') as f:\n",
    "    iLUT = pickle.load(f)"
   ]
  },
  {
   "cell_type": "markdown",
   "metadata": {},
   "source": [
    "Then we can use the iLUT to retrieve the unknowns:"
   ]
  },
  {
   "cell_type": "code",
   "execution_count": 82,
   "metadata": {
    "collapsed": false
   },
   "outputs": [],
   "source": [
    "Edir, Edif, tau2, Lp = iLUT(solar_z,H2O,O3,AOT,alt)"
   ]
  },
  {
   "cell_type": "markdown",
   "metadata": {},
   "source": [
    "and get the surface reflectance:"
   ]
  },
  {
   "cell_type": "code",
   "execution_count": 87,
   "metadata": {
    "collapsed": false
   },
   "outputs": [
    {
     "name": "stdout",
     "output_type": "stream",
     "text": [
      "Surface Reflectance = 0.09881279422575164\n"
     ]
    }
   ],
   "source": [
    "import math\n",
    "ρ = (math.pi*(L-Lp))/(tau2*(Edir+Edif))\n",
    "\n",
    "print('Surface Reflectance = {}'.format(ρ))"
   ]
  },
  {
   "cell_type": "markdown",
   "metadata": {},
   "source": [
    "# (need to explain the orbital correction..)"
   ]
  }
 ],
 "metadata": {
  "anaconda-cloud": {},
  "kernelspec": {
   "display_name": "Python [conda root]",
   "language": "python",
   "name": "conda-root-py"
  },
  "language_info": {
   "codemirror_mode": {
    "name": "ipython",
    "version": 3
   },
   "file_extension": ".py",
   "mimetype": "text/x-python",
   "name": "python",
   "nbconvert_exporter": "python",
   "pygments_lexer": "ipython3",
   "version": "3.5.2"
  }
 },
 "nbformat": 4,
 "nbformat_minor": 1
}
