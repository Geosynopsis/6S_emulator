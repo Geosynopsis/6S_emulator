{
 "cells": [
  {
   "cell_type": "markdown",
   "metadata": {},
   "source": [
    "# Atmospheric Correction (example 1)\n",
    "*---*"
   ]
  },
  {
   "cell_type": "markdown",
   "metadata": {},
   "source": [
    "### THE PROBLEM"
   ]
  },
  {
   "cell_type": "markdown",
   "metadata": {},
   "source": [
    "A common problem in remote sensing is the need to to convert at-sensor radiance (L) to surface reflectance (ρ). One way to describe the relationship between the two is:"
   ]
  },
  {
   "cell_type": "markdown",
   "metadata": {},
   "source": [
    "ρ = π(L -Lp) / τ(Edir + Edif)"
   ]
  },
  {
   "cell_type": "markdown",
   "metadata": {},
   "source": [
    "where\n",
    "\n",
    "* ρ = surface reflectance\n",
    "* π = 3.1415..\n",
    "* L = at-sensor radiance\n",
    "* Lp = path radiance\n",
    "* τ = transmissivity (from surface to satellite)\n",
    "* Edir = direct solar irradiance \n",
    "* Edif = diffuse solar irradiance\n",
    "\n"
   ]
  },
  {
   "cell_type": "markdown",
   "metadata": {},
   "source": [
    "Let's say we know the at-sensor radiance"
   ]
  },
  {
   "cell_type": "code",
   "execution_count": 7,
   "metadata": {
    "collapsed": true
   },
   "outputs": [],
   "source": [
    "L = 50"
   ]
  },
  {
   "cell_type": "markdown",
   "metadata": {},
   "source": [
    "We now have 2 knowns in this equation (i.e. π and L) and need to obtain the remaining 4 unknowns (i.e. Edir, Edif, τ and Lp) to calculate surface reflectance. "
   ]
  },
  {
   "cell_type": "markdown",
   "metadata": {},
   "source": [
    "### THE SOLUTION"
   ]
  },
  {
   "cell_type": "markdown",
   "metadata": {},
   "source": [
    "The 4 unknowns depend on Earth-Sun-Satellite geometry and atmospheric conditions"
   ]
  },
  {
   "cell_type": "markdown",
   "metadata": {},
   "source": [
    "**Earth-Sun-Satellite Geometry** <br />\n",
    "The relevant information is typically found in the metadata of satellite imagery, i.e.:\n",
    "\n",
    "* solar zenith angle\n",
    "* view zentith angle \n",
    "* Earth-Sun distance"
   ]
  },
  {
   "cell_type": "markdown",
   "metadata": {},
   "source": [
    "**Atmospheric Conditions** <br />\n",
    "For visible, near-infrared and short-wave infrared wavelengths the key variables are:\n",
    "\n",
    "* water vapour column\n",
    "* ozone\n",
    "* aerosol optical thickness\n",
    "\n",
    "We can obtain values for the water vapour column from [NCEP/NCAR](http://journals.ametsoc.org/doi/abs/10.1175/1520-0477%281996%29077%3C0437%3ATNYRP%3E2.0.CO%3B2) and for ozone from [TOMS/OMI](http://ozoneaq.gsfc.nasa.gov/missions). Aerosol optical thickness, however, is a bit more tricky, we could use the [MODIS Aerosol Product](http://modis-atmos.gsfc.nasa.gov/MOD04_L2/index.html) or try and estimate it using an in-scene technique."
   ]
  },
  {
   "cell_type": "markdown",
   "metadata": {},
   "source": [
    "Let's say we have the water vapour column (H2O), ozone (O3) and aerosol optical thickness (AOT)"
   ]
  },
  {
   "cell_type": "code",
   "execution_count": 8,
   "metadata": {
    "collapsed": true
   },
   "outputs": [],
   "source": [
    "H20 = 1\n",
    "O3 = 1\n",
    "AOT = 1"
   ]
  },
  {
   "cell_type": "markdown",
   "metadata": {},
   "source": [
    "**How do we use Atmcorr to convert at-sensor radiance to surface reflectance?**"
   ]
  },
  {
   "cell_type": "markdown",
   "metadata": {},
   "source": [
    "First we need to open up the relevant interpolated lookup table (iLUT). An iLUT is like a simulation of radiative transfer (RT) code but it runs orders of magnitude faster. Please see our [validation](https://github.com/samsammurphy/atmcorr/issues/7) page. There is more information on how iLUTs are [organized](https://github.com/samsammurphy/atmcorr/issues/8) as well.\n",
    "\n",
    "\n",
    "Let's say we want to correct the blue band (i.e. B2) of Landsat 8's OLI sensor using a continental (CO) aerosol model"
   ]
  },
  {
   "cell_type": "code",
   "execution_count": 9,
   "metadata": {
    "collapsed": false
   },
   "outputs": [
    {
     "name": "stdout",
     "output_type": "stream",
     "text": [
      "/home/sam/git/atmcorr/jupyter_notebooks\n"
     ]
    }
   ],
   "source": [
    "import pickle\n",
    "import os\n",
    "print(os.getcwd())\n",
    "\n",
    "#with open(iLUT_filenames[0], \"rb\" ) as iLUT_file:\n",
    "#    iLUT = pickle.load(iLUT_file)\n",
    "\n"
   ]
  },
  {
   "cell_type": "code",
   "execution_count": 10,
   "metadata": {
    "collapsed": true
   },
   "outputs": [],
   "source": [
    "Edir = 1\n",
    "Edif = 1\n",
    "tau2 = 1\n",
    "Lp = 1"
   ]
  },
  {
   "cell_type": "markdown",
   "metadata": {},
   "source": [
    " <img src=\"images/messi.jpg\" alt=\"messi.jpg\" width=\"128\" height=\"128\"> \n"
   ]
  },
  {
   "cell_type": "markdown",
   "metadata": {},
   "source": [
    "![image_title](images/messi.jpg)"
   ]
  },
  {
   "cell_type": "code",
   "execution_count": null,
   "metadata": {
    "collapsed": true
   },
   "outputs": [],
   "source": []
  }
 ],
 "metadata": {
  "anaconda-cloud": {},
  "kernelspec": {
   "display_name": "Python [conda root]",
   "language": "python",
   "name": "conda-root-py"
  },
  "language_info": {
   "codemirror_mode": {
    "name": "ipython",
    "version": 3
   },
   "file_extension": ".py",
   "mimetype": "text/x-python",
   "name": "python",
   "nbconvert_exporter": "python",
   "pygments_lexer": "ipython3",
   "version": "3.5.2"
  }
 },
 "nbformat": 4,
 "nbformat_minor": 1
}
