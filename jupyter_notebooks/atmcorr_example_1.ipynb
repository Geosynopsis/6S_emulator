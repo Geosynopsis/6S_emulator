{
 "cells": [
  {
   "cell_type": "markdown",
   "metadata": {},
   "source": [
    "# Atmospheric Correction"
   ]
  },
  {
   "cell_type": "markdown",
   "metadata": {},
   "source": [
    "### THE PROBLEM\n",
    "*---*"
   ]
  },
  {
   "cell_type": "markdown",
   "metadata": {},
   "source": [
    "In remote sensing we often need to calculate surface reflectance (ρ) from at-sensor radiance (L)"
   ]
  },
  {
   "cell_type": "markdown",
   "metadata": {},
   "source": [
    "### ρ = π(L -L<sub>p</sub>) / τ(E<sub>dir</sub> + E<sub>dif</sub>)"
   ]
  },
  {
   "cell_type": "markdown",
   "metadata": {},
   "source": [
    "where\n",
    "\n",
    "* ρ = surface reflectance\n",
    "* L = at-sensor radiance\n",
    "* L<sub>p</sub> = path radiance\n",
    "* τ = transmissivity (from surface to satellite)\n",
    "* E<sub>dir</sub> = direct solar irradiance \n",
    "* E<sub>dif</sub> = diffuse solar irradiance\n",
    "* π = 3.1415..\n",
    "\n"
   ]
  },
  {
   "cell_type": "markdown",
   "metadata": {},
   "source": [
    "The at-sensor radiance is the value measured by a satellite sensor"
   ]
  },
  {
   "cell_type": "code",
   "execution_count": 16,
   "metadata": {
    "collapsed": true
   },
   "outputs": [],
   "source": [
    "L = 120"
   ]
  },
  {
   "cell_type": "markdown",
   "metadata": {},
   "source": [
    "*---*\n",
    "**We have 4 unknowns (i.e. E<sub>dir</sub>, E<sub>dif</sub>, τ and L<sub>p</sub>) that we need to resolve to calculate surface reflectance. **\n",
    "*---*"
   ]
  },
  {
   "cell_type": "markdown",
   "metadata": {},
   "source": [
    "### THE SOLUTION\n",
    "*---*"
   ]
  },
  {
   "cell_type": "markdown",
   "metadata": {},
   "source": [
    "The 4 unknowns depend on i) atmospheric conditions and ii) Earth-Sun-Satellite geometry"
   ]
  },
  {
   "cell_type": "markdown",
   "metadata": {},
   "source": [
    "**Atmospheric Conditions** <br />\n",
    "For visible through short-wave infrared wavelengths (0.4 to 2.5 microns) the key variables are:\n",
    "\n",
    "* water vapour (g cm<sup>-2</sup>)\n",
    "* ozone (atm-cm)\n",
    "* aerosol optical thickness"
   ]
  },
  {
   "cell_type": "code",
   "execution_count": 17,
   "metadata": {
    "collapsed": true
   },
   "outputs": [],
   "source": [
    "H2O = 1\n",
    "O3 = 0.4\n",
    "AOT = 0.3"
   ]
  },
  {
   "cell_type": "markdown",
   "metadata": {},
   "source": [
    "**Earth-Sun-Satellite Geometry** <br />\n",
    "\n",
    "* target altitude (km)\n",
    "* solar zenith angle (degrees)\n",
    "* view zentith angle (degrees)\n",
    "* Earth-Sun distance (Astronomical Units)"
   ]
  },
  {
   "cell_type": "markdown",
   "metadata": {},
   "source": [
    "Instead of Earth-Sun distance we use day-of-year to correct for the eccentricity in the Earth's orbit around the sun. See [here](https://github.com/samsammurphy/atmcorr/wiki/Elliptical-Orbit-Correction) for details."
   ]
  },
  {
   "cell_type": "code",
   "execution_count": 18,
   "metadata": {
    "collapsed": false
   },
   "outputs": [],
   "source": [
    "alt = 0\n",
    "solar_z = 20\n",
    "view_z = 0   \n",
    "doy = 4"
   ]
  },
  {
   "cell_type": "markdown",
   "metadata": {},
   "source": [
    "**Where might we get these values from?**\n",
    "\n",
    "Potential sources include:<br>\n",
    "\n",
    "* Water vapour: [NCEP/NCAR](http://journals.ametsoc.org/doi/abs/10.1175/1520-0477%281996%29077%3C0437%3ATNYRP%3E2.0.CO%3B2)\n",
    "* Ozone: [TOMS/OMI](http://ozoneaq.gsfc.nasa.gov/missions). \n",
    "* Aerosol optical thickness: [MODIS Aerosol Product](http://modis-atmos.gsfc.nasa.gov/MOD04_L2/index.html) or in-scene techniques\n",
    "* Geometry and day-of-year: satellite image metadata\n"
   ]
  },
  {
   "cell_type": "markdown",
   "metadata": {},
   "source": [
    "**How to convert at-sensor radiance to surface reflectance?**"
   ]
  },
  {
   "cell_type": "markdown",
   "metadata": {},
   "source": [
    "We are using interpolated lookup tables (iLUT). This file *must* be on your local machine, it *should* be there if you have cloned this repo.\n",
    "\n",
    "For example, let's correct Landsat 8's blue band (i.e. B2) using a continental (CO) [aerosol model](https://github.com/samsammurphy/6S_LUT/wiki/Aerosol-Models)."
   ]
  },
  {
   "cell_type": "code",
   "execution_count": 19,
   "metadata": {
    "collapsed": false
   },
   "outputs": [],
   "source": [
    "import os\n",
    "import pickle\n",
    "\n",
    "base_dir = os.path.dirname(os.path.dirname(os.getcwd()))\n",
    "iLUT_path = os.path.join(base_dir,'iLUTs','LANDSAT_OLI_CO','viewz_0','LANDSAT_OLI_CO_0_B2.ilut')\n",
    "\n",
    "with open(iLUT_path, 'rb') as f:\n",
    "    iLUT = pickle.load(f)"
   ]
  },
  {
   "cell_type": "markdown",
   "metadata": {},
   "source": [
    "This iLUT gives outputs for *perihelion* (i.e. when the Earth is at its closest point to the Sun):"
   ]
  },
  {
   "cell_type": "code",
   "execution_count": 20,
   "metadata": {
    "collapsed": false
   },
   "outputs": [],
   "source": [
    "Edir, Edif, tau2, Lp = iLUT(solar_z,H2O,O3,AOT,alt)"
   ]
  },
  {
   "cell_type": "markdown",
   "metadata": {},
   "source": [
    "These are converted to outputs for any day of the year through a correction for the [Earth's elliptical orbit](https://github.com/samsammurphy/6S_LUT/wiki/Elliptical-Orbit-Correction)"
   ]
  },
  {
   "cell_type": "code",
   "execution_count": 29,
   "metadata": {
    "collapsed": false
   },
   "outputs": [],
   "source": [
    "import math\n",
    "import numpy as np\n",
    "\n",
    "def elliptical_correction(doy, Edir, Edif, Lp):\n",
    "    # harmonic correction coefficient\n",
    "    a = 0.03275\n",
    "    b = 18.992\n",
    "    c = 0.968047\n",
    "    coeff =  a*np.cos(doy/(b*math.pi)) + c\n",
    "   \n",
    "    # correct for orbital eccentricity\n",
    "    Edir = Edir*coeff\n",
    "    Edif = Edif*coeff\n",
    "    Lp   = Lp*coeff\n",
    "    \n",
    "    return Edir, Edif, Lp\n",
    "\n",
    "Edir, Edif, Lp = elliptical_correction(doy, Edir, Edif, Lp)"
   ]
  },
  {
   "cell_type": "markdown",
   "metadata": {},
   "source": [
    "**These are the final parameter values we need to do the atmospheric correction!**"
   ]
  },
  {
   "cell_type": "code",
   "execution_count": 30,
   "metadata": {
    "collapsed": false
   },
   "outputs": [
    {
     "name": "stdout",
     "output_type": "stream",
     "text": [
      "Surface Reflectance = 0.157\n"
     ]
    }
   ],
   "source": [
    "ρ = (math.pi*(L-Lp))/(tau2*(Edir+Edif))\n",
    "\n",
    "print('Surface Reflectance = {:.3f}'.format(ρ))"
   ]
  }
 ],
 "metadata": {
  "anaconda-cloud": {},
  "kernelspec": {
   "display_name": "Python [Root]",
   "language": "python",
   "name": "Python [Root]"
  },
  "language_info": {
   "codemirror_mode": {
    "name": "ipython",
    "version": 3
   },
   "file_extension": ".py",
   "mimetype": "text/x-python",
   "name": "python",
   "nbconvert_exporter": "python",
   "pygments_lexer": "ipython3",
   "version": "3.5.2"
  }
 },
 "nbformat": 4,
 "nbformat_minor": 1
}
